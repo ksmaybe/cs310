{
 "cells": [
  {
   "cell_type": "markdown",
   "metadata": {},
   "source": [
    "create the factorials"
   ]
  },
  {
   "cell_type": "code",
   "execution_count": 13,
   "metadata": {},
   "outputs": [],
   "source": [
    "def factorial(n):\n",
    "    if n==0:\n",
    "        return 1\n",
    "    else:\n",
    "        print(\" \"*n+\"Factorial for \" +str(n)+\" start\")\n",
    "        result=n*factorial(n-1)\n",
    "        return result"
   ]
  },
  {
   "cell_type": "code",
   "execution_count": 14,
   "metadata": {},
   "outputs": [
    {
     "name": "stdout",
     "output_type": "stream",
     "text": [
      "     Factorial for 5 start\n",
      "    Factorial for 4 start\n",
      "   Factorial for 3 start\n",
      "  Factorial for 2 start\n",
      " Factorial for 1 start\n"
     ]
    },
    {
     "data": {
      "text/plain": [
       "120"
      ]
     },
     "execution_count": 14,
     "metadata": {},
     "output_type": "execute_result"
    }
   ],
   "source": [
    "factorial(5)\n",
    "\n"
   ]
  },
  {
   "cell_type": "markdown",
   "metadata": {},
   "source": [
    "this is to create all subsets of a list"
   ]
  },
  {
   "cell_type": "code",
   "execution_count": 3,
   "metadata": {},
   "outputs": [],
   "source": [
    "def subset(items):\n",
    "    if len(items)==0:\n",
    "        return[[]]\n",
    "    else:\n",
    "        prev=subset(items[:-1])\n",
    "        result=[]\n",
    "        for s in prev:\n",
    "            result.append(s)\n",
    "            result.append(s+[items[-1]])\n",
    "        return result"
   ]
  },
  {
   "cell_type": "code",
   "execution_count": 8,
   "metadata": {},
   "outputs": [],
   "source": [
    "x=subset([1,2,3,4])"
   ]
  },
  {
   "cell_type": "code",
   "execution_count": null,
   "metadata": {},
   "outputs": [],
   "source": []
  },
  {
   "cell_type": "code",
   "execution_count": 12,
   "metadata": {},
   "outputs": [
    {
     "data": {
      "text/plain": [
       "16"
      ]
     },
     "execution_count": 12,
     "metadata": {},
     "output_type": "execute_result"
    }
   ],
   "source": [
    "len(x)"
   ]
  },
  {
   "cell_type": "markdown",
   "metadata": {},
   "source": [
    "This is permutation to reorganize elements in a list"
   ]
  },
  {
   "cell_type": "code",
   "execution_count": 25,
   "metadata": {},
   "outputs": [],
   "source": [
    "def permA(arr):\n",
    "    if len(arr)==0:\n",
    "        return [[]]\n",
    "    result=[]\n",
    "    #range(N)=[0,...,n-1]\n",
    "    prev=permA(arr[:i]+arr[(i+1):])\n",
    "    for p in prev:\n",
    "        result.append(p+[arr[i]])\n",
    "    return result\n",
    "    "
   ]
  },
  {
   "cell_type": "code",
   "execution_count": 7,
   "metadata": {},
   "outputs": [],
   "source": [
    "def permB(arr):\n",
    "    if len(arr)==0:\n",
    "        return[[]]\n",
    "    last=arr[-1]\n",
    "    prev=permB(arr[:-1])\n",
    "    result=[]\n",
    "    for p in prev:\n",
    "        for i in range(len(arr)):\n",
    "            #p[:i]=p[0,...,i-1]\n",
    "            #p[i:]=p[i,...]\n",
    "            result.append(p[:i]+[last]+p[i:])\n",
    "    return result"
   ]
  },
  {
   "cell_type": "code",
   "execution_count": 8,
   "metadata": {},
   "outputs": [
    {
     "data": {
      "text/plain": [
       "[[5, 4, 3, 2, 1],\n",
       " [4, 5, 3, 2, 1],\n",
       " [4, 3, 5, 2, 1],\n",
       " [4, 3, 2, 5, 1],\n",
       " [4, 3, 2, 1, 5],\n",
       " [5, 3, 4, 2, 1],\n",
       " [3, 5, 4, 2, 1],\n",
       " [3, 4, 5, 2, 1],\n",
       " [3, 4, 2, 5, 1],\n",
       " [3, 4, 2, 1, 5],\n",
       " [5, 3, 2, 4, 1],\n",
       " [3, 5, 2, 4, 1],\n",
       " [3, 2, 5, 4, 1],\n",
       " [3, 2, 4, 5, 1],\n",
       " [3, 2, 4, 1, 5],\n",
       " [5, 3, 2, 1, 4],\n",
       " [3, 5, 2, 1, 4],\n",
       " [3, 2, 5, 1, 4],\n",
       " [3, 2, 1, 5, 4],\n",
       " [3, 2, 1, 4, 5],\n",
       " [5, 4, 2, 3, 1],\n",
       " [4, 5, 2, 3, 1],\n",
       " [4, 2, 5, 3, 1],\n",
       " [4, 2, 3, 5, 1],\n",
       " [4, 2, 3, 1, 5],\n",
       " [5, 2, 4, 3, 1],\n",
       " [2, 5, 4, 3, 1],\n",
       " [2, 4, 5, 3, 1],\n",
       " [2, 4, 3, 5, 1],\n",
       " [2, 4, 3, 1, 5],\n",
       " [5, 2, 3, 4, 1],\n",
       " [2, 5, 3, 4, 1],\n",
       " [2, 3, 5, 4, 1],\n",
       " [2, 3, 4, 5, 1],\n",
       " [2, 3, 4, 1, 5],\n",
       " [5, 2, 3, 1, 4],\n",
       " [2, 5, 3, 1, 4],\n",
       " [2, 3, 5, 1, 4],\n",
       " [2, 3, 1, 5, 4],\n",
       " [2, 3, 1, 4, 5],\n",
       " [5, 4, 2, 1, 3],\n",
       " [4, 5, 2, 1, 3],\n",
       " [4, 2, 5, 1, 3],\n",
       " [4, 2, 1, 5, 3],\n",
       " [4, 2, 1, 3, 5],\n",
       " [5, 2, 4, 1, 3],\n",
       " [2, 5, 4, 1, 3],\n",
       " [2, 4, 5, 1, 3],\n",
       " [2, 4, 1, 5, 3],\n",
       " [2, 4, 1, 3, 5],\n",
       " [5, 2, 1, 4, 3],\n",
       " [2, 5, 1, 4, 3],\n",
       " [2, 1, 5, 4, 3],\n",
       " [2, 1, 4, 5, 3],\n",
       " [2, 1, 4, 3, 5],\n",
       " [5, 2, 1, 3, 4],\n",
       " [2, 5, 1, 3, 4],\n",
       " [2, 1, 5, 3, 4],\n",
       " [2, 1, 3, 5, 4],\n",
       " [2, 1, 3, 4, 5],\n",
       " [5, 4, 3, 1, 2],\n",
       " [4, 5, 3, 1, 2],\n",
       " [4, 3, 5, 1, 2],\n",
       " [4, 3, 1, 5, 2],\n",
       " [4, 3, 1, 2, 5],\n",
       " [5, 3, 4, 1, 2],\n",
       " [3, 5, 4, 1, 2],\n",
       " [3, 4, 5, 1, 2],\n",
       " [3, 4, 1, 5, 2],\n",
       " [3, 4, 1, 2, 5],\n",
       " [5, 3, 1, 4, 2],\n",
       " [3, 5, 1, 4, 2],\n",
       " [3, 1, 5, 4, 2],\n",
       " [3, 1, 4, 5, 2],\n",
       " [3, 1, 4, 2, 5],\n",
       " [5, 3, 1, 2, 4],\n",
       " [3, 5, 1, 2, 4],\n",
       " [3, 1, 5, 2, 4],\n",
       " [3, 1, 2, 5, 4],\n",
       " [3, 1, 2, 4, 5],\n",
       " [5, 4, 1, 3, 2],\n",
       " [4, 5, 1, 3, 2],\n",
       " [4, 1, 5, 3, 2],\n",
       " [4, 1, 3, 5, 2],\n",
       " [4, 1, 3, 2, 5],\n",
       " [5, 1, 4, 3, 2],\n",
       " [1, 5, 4, 3, 2],\n",
       " [1, 4, 5, 3, 2],\n",
       " [1, 4, 3, 5, 2],\n",
       " [1, 4, 3, 2, 5],\n",
       " [5, 1, 3, 4, 2],\n",
       " [1, 5, 3, 4, 2],\n",
       " [1, 3, 5, 4, 2],\n",
       " [1, 3, 4, 5, 2],\n",
       " [1, 3, 4, 2, 5],\n",
       " [5, 1, 3, 2, 4],\n",
       " [1, 5, 3, 2, 4],\n",
       " [1, 3, 5, 2, 4],\n",
       " [1, 3, 2, 5, 4],\n",
       " [1, 3, 2, 4, 5],\n",
       " [5, 4, 1, 2, 3],\n",
       " [4, 5, 1, 2, 3],\n",
       " [4, 1, 5, 2, 3],\n",
       " [4, 1, 2, 5, 3],\n",
       " [4, 1, 2, 3, 5],\n",
       " [5, 1, 4, 2, 3],\n",
       " [1, 5, 4, 2, 3],\n",
       " [1, 4, 5, 2, 3],\n",
       " [1, 4, 2, 5, 3],\n",
       " [1, 4, 2, 3, 5],\n",
       " [5, 1, 2, 4, 3],\n",
       " [1, 5, 2, 4, 3],\n",
       " [1, 2, 5, 4, 3],\n",
       " [1, 2, 4, 5, 3],\n",
       " [1, 2, 4, 3, 5],\n",
       " [5, 1, 2, 3, 4],\n",
       " [1, 5, 2, 3, 4],\n",
       " [1, 2, 5, 3, 4],\n",
       " [1, 2, 3, 5, 4],\n",
       " [1, 2, 3, 4, 5]]"
      ]
     },
     "execution_count": 8,
     "metadata": {},
     "output_type": "execute_result"
    }
   ],
   "source": [
    "permB([1,2,3,4,5])"
   ]
  },
  {
   "cell_type": "markdown",
   "metadata": {},
   "source": [
    "***maze M***"
   ]
  },
  {
   "cell_type": "code",
   "execution_count": 9,
   "metadata": {},
   "outputs": [],
   "source": [
    "maze=[[0,0,0,0],[0,-1,-1,0],[0,-1,-1,0],[0,0,0,0]]\n",
    "#the maze is [0,0,0,0]\n",
    "#           [0,-1,-1,0]\n",
    "#           [0,-1,-1,0]\n",
    "#            [0,0,0,0]"
   ]
  },
  {
   "cell_type": "code",
   "execution_count": 10,
   "metadata": {},
   "outputs": [],
   "source": [
    "def eat(n):\n",
    "    if n<0:\n",
    "        return 0\n",
    "    if n==0:\n",
    "        return 1\n",
    "    if n%3==0 and n>6:\n",
    "        res = eat(n-1)+eat(n-2)+eat(2*n/3)\n",
    "    else:\n",
    "        res = eat(n-1)+eat(n-2)\n",
    "    return res"
   ]
  },
  {
   "cell_type": "markdown",
   "metadata": {},
   "source": [
    "it eats at option of 1 or 2 or a third(if divisible by 3 and >6) then repeat for the leftovers until all of the chocolate is eaten. It adds up all the options to give final results. Tested in Python, works.\n"
   ]
  },
  {
   "cell_type": "code",
   "execution_count": 13,
   "metadata": {},
   "outputs": [
    {
     "data": {
      "text/plain": [
       "68"
      ]
     },
     "execution_count": 13,
     "metadata": {},
     "output_type": "execute_result"
    }
   ],
   "source": [
    "eat(9)"
   ]
  },
  {
   "cell_type": "code",
   "execution_count": 4,
   "metadata": {},
   "outputs": [],
   "source": [
    "def f(l,d):\n",
    "    if l==1:\n",
    "        return [i for i in range(10) if i%d==0]\n",
    "    if l==2:\n",
    "        res=[]\n",
    "        for i in range(10**l):\n",
    "            if i>9:\n",
    "                if i%d==0:\n",
    "                    res.append(i)\n",
    "        return res\n",
    "    res=f(l-1,d)\n",
    "    res2=[]\n",
    "    for n in res:\n",
    "        x=str(n)\n",
    "        x1=x[-1]\n",
    "        nums=[int(x1+str(ii)) for ii in range(10)]\n",
    "        for num in nums:\n",
    "            if num%d==0:\n",
    "                res2.append(int(x+str(num)[-1]))\n",
    "    return res2\n",
    "        "
   ]
  },
  {
   "cell_type": "markdown",
   "metadata": {},
   "source": [
    "it generates 2-digit numbers that can be divisible by d then adds another digit to existing numbers and take the next 2 digits of those numbers to divide by d, appending to a new list each time there is a valid number. It repeats until the numbers reach a length of l. Tested in python, matches example."
   ]
  },
  {
   "cell_type": "code",
   "execution_count": 1,
   "metadata": {},
   "outputs": [],
   "source": [
    "x='2'\n",
    "nums=[int(x+str(i)) for i in range(10)]"
   ]
  },
  {
   "cell_type": "code",
   "execution_count": 2,
   "metadata": {},
   "outputs": [
    {
     "data": {
      "text/plain": [
       "[20, 21, 22, 23, 24, 25, 26, 27, 28, 29]"
      ]
     },
     "execution_count": 2,
     "metadata": {},
     "output_type": "execute_result"
    }
   ],
   "source": [
    "nums"
   ]
  },
  {
   "cell_type": "code",
   "execution_count": 5,
   "metadata": {},
   "outputs": [
    {
     "data": {
      "text/plain": [
       "[124, 248, 360, 484, 600, 724, 848, 960]"
      ]
     },
     "execution_count": 5,
     "metadata": {},
     "output_type": "execute_result"
    }
   ],
   "source": [
    "f(3,12)"
   ]
  },
  {
   "cell_type": "code",
   "execution_count": 15,
   "metadata": {},
   "outputs": [],
   "source": [
    "def nav(m,n,l):\n",
    "    if l==0:\n",
    "        return 1\n",
    "    if m==0 and n==0:\n",
    "        res= nav(m+1,n,l-1)+nav(m,n+1,l-1)-1\n",
    "    if m==0:\n",
    "        res= nav(m+1,n,l-1)+nav(m,n+1,l-1)+nav(m,n-1,l-1)-1\n",
    "    if n==0:\n",
    "        res= nav(m+1,n,l-1)+nav(m,n+1,l-1)+nav(m-1,n,l-1)-1\n",
    "    else:\n",
    "        res= nav(m+1,n,l-1)+nav(m,n+1,l-1)+nav(m-1,n,l-1)+nav(m,n-1,l-1)-1\n",
    "    return res\n",
    "    "
   ]
  },
  {
   "cell_type": "code",
   "execution_count": null,
   "metadata": {},
   "outputs": [],
   "source": [
    "def nav(m,n,l,k): \n",
    "    #(m,n) initially is bottom left square of matrix\n",
    "    #(m-1,n) is on the right\n",
    "    #(m,n-1) is above\n",
    "    #l is length of path\n",
    "    #k is to know when to stop as it reaches limit of path with length l\n",
    "    #k equal to l when initially called\n",
    "    if k==0:\n",
    "        # function to calculate all possible ways to reach (m,n) from bottom left in l steps\n",
    "        return calculation\n",
    "    if n!>m:#avoid repeat calculating the same square\n",
    "        if m==0: #avoid going over the edge\n",
    "            result=nav(m,n-1,l,k-1)\n",
    "        elif n==0:\n",
    "            result=nav(m-1,n,l,k-1)\n",
    "        else:\n",
    "            result=nav(m-1,n,l,k-1)+nav(m,n-1,l,k-1)\n",
    "    #function to calculate all possible ways to reach (m,n) from bottom left in l steps\n",
    "    result+= #calculated ways\n",
    "    return result\n",
    "    \n",
    "    "
   ]
  },
  {
   "cell_type": "markdown",
   "metadata": {},
   "source": [
    "it calculates all squares that can be reached in l steps from all possible directions without repeating any square. It works recursively as it navigates through the matrix until it cannot possibly reach given length l. It adds all the paths to reach every square in matrix within reach of length l to give number of all possible paths for the function.\n",
    "        "
   ]
  },
  {
   "cell_type": "code",
   "execution_count": 16,
   "metadata": {},
   "outputs": [
    {
     "data": {
      "text/plain": [
       "43"
      ]
     },
     "execution_count": 16,
     "metadata": {},
     "output_type": "execute_result"
    }
   ],
   "source": [
    "nav(5,5,3)"
   ]
  },
  {
   "cell_type": "code",
   "execution_count": 32,
   "metadata": {},
   "outputs": [
    {
     "name": "stdout",
     "output_type": "stream",
     "text": [
      "6\n"
     ]
    }
   ],
   "source": [
    "# Python program to count all possible paths \n",
    "# from top left to bottom right \n",
    "\n",
    "# Returns count of possible paths to reach cell \n",
    "# at row number m and column number n from the \n",
    "# topmost leftmost cell (cell at 1, 1) \n",
    "def numberOfPaths(m, n): \n",
    "\t# Create a 2D table to store \n",
    "\t# results of subproblems \n",
    "\tcount = [[0 for x in range(m)] for y in range(n)] \n",
    "\t\n",
    "\t# Count of paths to reach any \n",
    "\t# cell in first column is 1 \n",
    "\tfor i in range(m): \n",
    "\t\tcount[i][0] = 1; \n",
    "\t\n",
    "\t# Count of paths to reach any \n",
    "\t# cell in first column is 1 \n",
    "\tfor j in range(n): \n",
    "\t\tcount[0][j] = 1; \n",
    "\t\n",
    "\t# Calculate count of paths for other \n",
    "\t# cells in bottom-up \n",
    "\t# manner using the recursive solution \n",
    "\tfor i in range(1, m): \n",
    "\t\tfor j in range(n):\t\t\t \n",
    "\t\t\tcount[i][j] = count[i-1][j] + count[i][j-1] \n",
    "\treturn count[m-1][n-1] \n",
    "\n",
    "# Driver program to test above function \n",
    "m = 3\n",
    "n = 3\n",
    "print( numberOfPaths(m, n)) \n",
    "\n",
    "# This code is contributed by Aditi Sharma \n"
   ]
  },
  {
   "cell_type": "code",
   "execution_count": 33,
   "metadata": {},
   "outputs": [
    {
     "data": {
      "text/plain": [
       "70"
      ]
     },
     "execution_count": 33,
     "metadata": {},
     "output_type": "execute_result"
    }
   ],
   "source": []
  },
  {
   "cell_type": "code",
   "execution_count": null,
   "metadata": {},
   "outputs": [],
   "source": []
  }
 ],
 "metadata": {
  "kernelspec": {
   "display_name": "Python 3",
   "language": "python",
   "name": "python3"
  },
  "language_info": {
   "codemirror_mode": {
    "name": "ipython",
    "version": 2
   },
   "file_extension": ".py",
   "mimetype": "text/x-python",
   "name": "python",
   "nbconvert_exporter": "python",
   "pygments_lexer": "ipython2",
   "version": "2.7.15rc1"
  }
 },
 "nbformat": 4,
 "nbformat_minor": 2
}
