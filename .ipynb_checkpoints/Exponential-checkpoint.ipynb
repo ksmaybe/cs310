{
 "cells": [
  {
   "cell_type": "code",
   "execution_count": 5,
   "metadata": {},
   "outputs": [],
   "source": [
    "import time\n",
    "def ex(b,n):\n",
    "    start=time.time()\n",
    "    x=expo(b,n)\n",
    "    end=time.time()\n",
    "    t=end-start\n",
    "    print(t)\n",
    "    return x\n",
    "\n",
    "def expo(b,n):\n",
    "    if n==0:\n",
    "        return 1\n",
    "    if n%2==0:\n",
    "        return expo(b,n/2)**2\n",
    "    else:\n",
    "        return expo(b,(n-1)/2)**2*b"
   ]
  },
  {
   "cell_type": "code",
   "execution_count": 4,
   "metadata": {},
   "outputs": [
    {
     "data": {
      "text/plain": [
       "4"
      ]
     },
     "execution_count": 4,
     "metadata": {},
     "output_type": "execute_result"
    }
   ],
   "source": [
    "expo(2,2)"
   ]
  },
  {
   "cell_type": "code",
   "execution_count": null,
   "metadata": {},
   "outputs": [],
   "source": []
  }
 ],
 "metadata": {
  "kernelspec": {
   "display_name": "Python 3",
   "language": "python",
   "name": "python3"
  },
  "language_info": {
   "codemirror_mode": {
    "name": "ipython",
    "version": 2
   },
   "file_extension": ".py",
   "mimetype": "text/x-python",
   "name": "python",
   "nbconvert_exporter": "python",
   "pygments_lexer": "ipython2",
   "version": "2.7.15rc1"
  }
 },
 "nbformat": 4,
 "nbformat_minor": 2
}
