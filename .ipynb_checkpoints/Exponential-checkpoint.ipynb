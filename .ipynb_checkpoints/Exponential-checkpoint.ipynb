{
 "cells": [
  {
   "cell_type": "markdown",
   "metadata": {},
   "source": [
    "expo takes k+1 calls\n",
    "k calls with division by 2\n",
    "1 call Exp(b,1)\n",
    "#T(2**k)= log2(n)+1\n",
    "2**k<= m< 2**k+1\n",
    "t(2**k)<= T(m) <= T(2**(k+1))\n",
    "k<= log2(m) <k+1\n",
    "k=[log2(m)]\n",
    "\n",
    "#no.multiplications <= 2[log2(m)]+4"
   ]
  },
  {
   "cell_type": "code",
   "execution_count": 6,
   "metadata": {},
   "outputs": [],
   "source": [
    "import time\n",
    "def ex(b,n):\n",
    "    start=time.time()\n",
    "    x=expo(b,n)\n",
    "    end=time.time()\n",
    "    t=end-start\n",
    "    print(t)\n",
    "    return x\n",
    "\n",
    "def expo(b,n):\n",
    "    if n==0:\n",
    "        return 1\n",
    "    if n%2==0:\n",
    "        return expo(b,n/2)**2\n",
    "    else:\n",
    "        return expo(b,(n-1)/2)**2*b\n",
    "def ex1(b,n):\n",
    "    start=time.time()\n",
    "    x=expo1(b,n)\n",
    "    end=time.time()\n",
    "    t=end-start\n",
    "    print(t)\n",
    "    return x\n",
    "\n",
    "def expo1(b,n):\n",
    "    res=1\n",
    "    for i in range(n):\n",
    "        res*=b\n",
    "    return res"
   ]
  },
  {
   "cell_type": "code",
   "execution_count": 14,
   "metadata": {},
   "outputs": [
    {
     "name": "stdout",
     "output_type": "stream",
     "text": [
      "1.09672546387e-05\n"
     ]
    },
    {
     "data": {
      "text/plain": [
       "1267650600228229401496703205376L"
      ]
     },
     "execution_count": 14,
     "metadata": {},
     "output_type": "execute_result"
    }
   ],
   "source": [
    "ex(2,100)"
   ]
  },
  {
   "cell_type": "code",
   "execution_count": 13,
   "metadata": {},
   "outputs": [
    {
     "name": "stdout",
     "output_type": "stream",
     "text": [
      "3.88622283936e-05\n"
     ]
    },
    {
     "data": {
      "text/plain": [
       "1267650600228229401496703205376L"
      ]
     },
     "execution_count": 13,
     "metadata": {},
     "output_type": "execute_result"
    }
   ],
   "source": [
    "ex1(2,100)"
   ]
  },
  {
   "cell_type": "markdown",
   "metadata": {},
   "source": [
    "binary search\n",
    "input:  sorted array, A[1...n] of numbers\n",
    "        number x\n",
    "        \n",
    "output: i such that A[i]=x\n",
    "        -1 if there is no such i"
   ]
  }
 ],
 "metadata": {
  "kernelspec": {
   "display_name": "Python 3",
   "language": "python",
   "name": "python3"
  },
  "language_info": {
   "codemirror_mode": {
    "name": "ipython",
    "version": 2
   },
   "file_extension": ".py",
   "mimetype": "text/x-python",
   "name": "python",
   "nbconvert_exporter": "python",
   "pygments_lexer": "ipython2",
   "version": "2.7.15rc1"
  }
 },
 "nbformat": 4,
 "nbformat_minor": 2
}
