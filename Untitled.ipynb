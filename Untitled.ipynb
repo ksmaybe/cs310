{
 "cells": [
  {
   "cell_type": "code",
   "execution_count": 9,
   "metadata": {},
   "outputs": [],
   "source": [
    "def s(x):\n",
    "    print(\"James: \",0.38*x)\n",
    "    print(\"Pira: \",0.33*x)\n",
    "    print(\"Me: \",0.29*x)"
   ]
  },
  {
   "cell_type": "code",
   "execution_count": 10,
   "metadata": {},
   "outputs": [
    {
     "name": "stdout",
     "output_type": "stream",
     "text": [
      "James:  1900.0\n",
      "Pira:  1650.0\n",
      "Me:  1450.0\n"
     ]
    }
   ],
   "source": [
    "s(5000)"
   ]
  },
  {
   "cell_type": "code",
   "execution_count": 2,
   "metadata": {},
   "outputs": [
    {
     "data": {
      "text/plain": [
       "-3.0"
      ]
     },
     "execution_count": 2,
     "metadata": {},
     "output_type": "execute_result"
    }
   ],
   "source": [
    "5-12*2/3\n"
   ]
  },
  {
   "cell_type": "code",
   "execution_count": 11,
   "metadata": {},
   "outputs": [],
   "source": [
    "x=1\n",
    "y=2\n",
    "z=-2\n",
    "k=3"
   ]
  },
  {
   "cell_type": "code",
   "execution_count": 15,
   "metadata": {},
   "outputs": [
    {
     "data": {
      "text/plain": [
       "13"
      ]
     },
     "execution_count": 15,
     "metadata": {},
     "output_type": "execute_result"
    }
   ],
   "source": [
    "0*x+2*y+-3*z+1*k"
   ]
  },
  {
   "cell_type": "code",
   "execution_count": 16,
   "metadata": {},
   "outputs": [
    {
     "data": {
      "text/plain": [
       "1987"
      ]
     },
     "execution_count": 16,
     "metadata": {},
     "output_type": "execute_result"
    }
   ],
   "source": [
    "2017-3*10\n"
   ]
  },
  {
   "cell_type": "code",
   "execution_count": 6,
   "metadata": {},
   "outputs": [],
   "source": [
    "import numpy as np;np.random.seed(0)\n",
    "import seaborn as sns;sns.set()\n",
    "x=np.random.uniform(-2,2,(1,784))\n",
    "x=x.reshape((28,28))"
   ]
  },
  {
   "cell_type": "code",
   "execution_count": 7,
   "metadata": {},
   "outputs": [
    {
     "data": {
      "image/png": "[encoded data removed]",
      "text/plain": [
       "<Figure size 432x288 with 2 Axes>"
      ]
     },
     "metadata": {
      "needs_background": "light"
     },
     "output_type": "display_data"
    }
   ],
   "source": [
    "ax=sns.heatmap(x)"
   ]
  },
  {
   "cell_type": "code",
   "execution_count": 7,
   "metadata": {},
   "outputs": [],
   "source": [
    "def ss(n):\n",
    "    if n==0:\n",
    "        return 0\n",
    "    if n<0:\n",
    "        return 9999\n",
    "    x=min(ss(n-8),ss(n-7),ss(n-3),ss(n-1))\n",
    "    return x+1"
   ]
  },
  {
   "cell_type": "code",
   "execution_count": 8,
   "metadata": {},
   "outputs": [
    {
     "data": {
      "text/plain": [
       "3"
      ]
     },
     "execution_count": 8,
     "metadata": {},
     "output_type": "execute_result"
    }
   ],
   "source": [
    "ss(13)"
   ]
  },
  {
   "cell_type": "code",
   "execution_count": 97,
   "metadata": {},
   "outputs": [],
   "source": [
    "def findminsubset(c,a):\n",
    "    lookup=[[9999 for j in range(c+1)] for i in range(len(a)+1)]\n",
    "    a.sort(reverse=True)\n",
    "    lookup[0][0]=0\n",
    "    print(a)\n",
    "    for i in range(len(a)):\n",
    "        lookup[i+1][a[i]]=1\n",
    "    for i in range(len(a)):\n",
    "        i=i+1\n",
    "        for j in range(c):\n",
    "            j=j+1\n",
    "            if lookup[i][j]==9999:\n",
    "                if a[i-1]<=j:\n",
    "                    x=lookup[i-1][j]\n",
    "                    y=lookup[i-1][j-a[i-1]]\n",
    "                    z=min(x,y)\n",
    "                    print(a[i-1],j,z)\n",
    "                    if z<9999 and j-a[i-1]==z:\n",
    "                        print('x')\n",
    "                        lookup[i][j]=z+1\n",
    "    #                 elif j==a[i-1]:\n",
    "    #                     lookup[i][j]=1\n",
    "                else:\n",
    "                    lookup[i][j]=lookup[i-1][j]\n",
    "    for l in lookup:\n",
    "        print(l)\n",
    "    return lookup[len(a)][c]"
   ]
  },
  {
   "cell_type": "code",
   "execution_count": 98,
   "metadata": {},
   "outputs": [
    {
     "name": "stdout",
     "output_type": "stream",
     "text": [
      "[5, 3, 2, 1, 1]\n",
      "5 6 9999\n",
      "5 7 9999\n",
      "3 4 9999\n",
      "3 5 1\n",
      "3 6 9999\n",
      "3 7 9999\n",
      "2 3 1\n",
      "x\n",
      "2 4 9999\n",
      "2 5 1\n",
      "2 6 9999\n",
      "2 7 9999\n",
      "1 2 1\n",
      "x\n",
      "1 3 1\n",
      "1 4 2\n",
      "1 5 9999\n",
      "1 6 9999\n",
      "1 7 9999\n",
      "1 2 1\n",
      "x\n",
      "1 3 2\n",
      "x\n",
      "1 4 9999\n",
      "1 5 9999\n",
      "1 6 9999\n",
      "1 7 9999\n",
      "[0, 9999, 9999, 9999, 9999, 9999, 9999, 9999]\n",
      "[9999, 9999, 9999, 9999, 9999, 1, 9999, 9999]\n",
      "[9999, 9999, 9999, 1, 9999, 9999, 9999, 9999]\n",
      "[9999, 9999, 1, 2, 9999, 9999, 9999, 9999]\n",
      "[9999, 1, 2, 9999, 9999, 9999, 9999, 9999]\n",
      "[9999, 1, 2, 3, 9999, 9999, 9999, 9999]\n"
     ]
    },
    {
     "data": {
      "text/plain": [
       "9999"
      ]
     },
     "execution_count": 98,
     "metadata": {},
     "output_type": "execute_result"
    }
   ],
   "source": [
    "findminsubset(7,[1,3,1,5,2])"
   ]
  },
  {
   "cell_type": "code",
   "execution_count": null,
   "metadata": {},
   "outputs": [],
   "source": []
  },
  {
   "cell_type": "code",
   "execution_count": null,
   "metadata": {},
   "outputs": [],
   "source": []
  }
 ],
 "metadata": {
  "kernelspec": {
   "display_name": "Python 3",
   "language": "python",
   "name": "python3"
  },
  "language_info": {
   "codemirror_mode": {
    "name": "ipython",
    "version": 3
   },
   "file_extension": ".py",
   "mimetype": "text/x-python",
   "name": "python",
   "nbconvert_exporter": "python",
   "pygments_lexer": "ipython3",
   "version": "3.6.2"
  }
 },
 "nbformat": 4,
 "nbformat_minor": 2
}
