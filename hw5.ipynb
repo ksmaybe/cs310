{
 "cells": [
  {
   "cell_type": "code",
   "execution_count": 9,
   "metadata": {},
   "outputs": [],
   "source": [
    "def c(i,A,res):\n",
    "    I=i-1\n",
    "    if res[I+1]==None:\n",
    "        if i==0:\n",
    "            res[0]=0\n",
    "            return res[I+1]\n",
    "        tmp=9999\n",
    "        for a in A:\n",
    "            if i>=a:\n",
    "                tmp=min(tmp,c(i-a,A,res))\n",
    "        tmp=tmp+1\n",
    "        res[I+1]=tmp\n",
    "    return res[I+1]\n"
   ]
  },
  {
   "cell_type": "code",
   "execution_count": 10,
   "metadata": {},
   "outputs": [
    {
     "data": {
      "text/plain": [
       "3"
      ]
     },
     "execution_count": 10,
     "metadata": {},
     "output_type": "execute_result"
    }
   ],
   "source": [
    "res=[None]*14\n",
    "A=[1,4,5]\n",
    "c(13,A,res)"
   ]
  },
  {
   "cell_type": "code",
   "execution_count": 11,
   "metadata": {},
   "outputs": [
    {
     "data": {
      "text/plain": [
       "[0, 1, 2, 3, 1, 1, 2, 3, 2, 2, 2, 3, 3, 3]"
      ]
     },
     "execution_count": 11,
     "metadata": {},
     "output_type": "execute_result"
    }
   ],
   "source": [
    "res"
   ]
  },
  {
   "cell_type": "code",
   "execution_count": null,
   "metadata": {},
   "outputs": [],
   "source": [
    "def wrapper(n):\n",
    "    lookup=[[-1 for i in range(n+1)] for j in range(n+1)]\n",
    "    A=[(i+1)**3 for in range(10)]\n",
    "    return see(n,n,A,lookup)\n",
    "\n",
    "def see(n,n,A,lookup):\n",
    "    if lookup[i][j]!=-1:\n",
    "        return lookup[i][j]\n",
    "    if i==0 or j==0:\n",
    "        lookup[i][j]=0\n",
    "    for a in A:\n",
    "        if \n",
    "    "
   ]
  },
  {
   "cell_type": "code",
   "execution_count": 15,
   "metadata": {},
   "outputs": [],
   "source": [
    "def wrapper(n):\n",
    "    lookup=[0 for j in range(n+1)]\n",
    "    lookup[0]=1\n",
    "    A=[(i+1)**3 for i in range(10)]\n",
    "    return see(n,A,lookup)\n",
    "\n",
    "def see(n,A,lookup):\n",
    "    if lookup[n]==0:\n",
    "        tmp=0\n",
    "        for a in A:\n",
    "            if n>=a:\n",
    "                tmp+=(see(n-a,A,lookup))\n",
    "        lookup[n]=tmp\n",
    "    return lookup[n]\n",
    "    "
   ]
  },
  {
   "cell_type": "code",
   "execution_count": 21,
   "metadata": {},
   "outputs": [
    {
     "data": {
      "text/plain": [
       "1"
      ]
     },
     "execution_count": 21,
     "metadata": {},
     "output_type": "execute_result"
    }
   ],
   "source": [
    "wrapper(1)"
   ]
  },
  {
   "cell_type": "code",
   "execution_count": 39,
   "metadata": {},
   "outputs": [],
   "source": [
    "from math import inf\n",
    "def pun(l,lst):\n",
    "    fees=[[0]* len(lst) for i in range(len(lst))]\n",
    "    for i in range(len(lst)):\n",
    "        length=len(lst[i])\n",
    "        fees[i][i]=(l-length)**3\n",
    "        k=1\n",
    "        for j in range(i+1,len(lst)):\n",
    "            length+=len(lst[j])+1\n",
    "            k+=1\n",
    "            fees[i][j]=((l-length)/k)**3\n",
    "    print(fees)\n",
    "    \n",
    "    best_cost=[inf for i in range(len(lst)+1)]\n",
    "    best_cost[-1]=0\n",
    "    best_prev=[0 for i in range(len(lst))]\n",
    "    for i in range(len(lst)):\n",
    "        for j in range(i+1):\n",
    "            if fees[j][i]>=0:\n",
    "                if best_cost[i]>best_cost[j-1]+fees[j][i]:\n",
    "                    best_cost[i]=best_cost[j-1]+fees[j][i]\n",
    "                    best_prev[i]=j\n",
    "#     res=\"\"\n",
    "#     i=len(lst)-1\n",
    "#     while i>=0:\n",
    "#         res=\" \".join(lst[best_prev[i]:(i+1)])+\"\\n\"+res\n",
    "#         i = best_prev[i]-1\n",
    "#     return res\n",
    "    return best_cost"
   ]
  },
  {
   "cell_type": "code",
   "execution_count": 40,
   "metadata": {},
   "outputs": [
    {
     "name": "stdout",
     "output_type": "stream",
     "text": [
      "[[27, 0.0, -1.0, -11.390625], [0, 64, 0.125, -4.629629629629631], [0, 0, 64, -1.0], [0, 0, 0, 1]]\n",
      "[27, 0.0, 27.125, 28.125, 0]\n"
     ]
    }
   ],
   "source": [
    "print(pun(6, \"aaa bb cc ddddd\".split()))"
   ]
  },
  {
   "cell_type": "code",
   "execution_count": null,
   "metadata": {},
   "outputs": [],
   "source": []
  }
 ],
 "metadata": {
  "kernelspec": {
   "display_name": "Python 3",
   "language": "python",
   "name": "python3"
  },
  "language_info": {
   "codemirror_mode": {
    "name": "ipython",
    "version": 3
   },
   "file_extension": ".py",
   "mimetype": "text/x-python",
   "name": "python",
   "nbconvert_exporter": "python",
   "pygments_lexer": "ipython3",
   "version": "3.6.2"
  }
 },
 "nbformat": 4,
 "nbformat_minor": 2
}
