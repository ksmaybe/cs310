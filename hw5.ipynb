{
 "cells": [
  {
   "cell_type": "code",
   "execution_count": 9,
   "metadata": {},
   "outputs": [],
   "source": [
    "def c(i,A,res):\n",
    "    I=i-1\n",
    "    if res[I+1]==None:\n",
    "        if i==0:\n",
    "            res[0]=0\n",
    "            return res[I+1]\n",
    "        tmp=9999\n",
    "        for a in A:\n",
    "            if i>=a:\n",
    "                tmp=min(tmp,c(i-a,A,res))\n",
    "        tmp=tmp+1\n",
    "        res[I+1]=tmp\n",
    "    return res[I+1]\n"
   ]
  },
  {
   "cell_type": "code",
   "execution_count": 10,
   "metadata": {},
   "outputs": [
    {
     "data": {
      "text/plain": [
       "3"
      ]
     },
     "execution_count": 10,
     "metadata": {},
     "output_type": "execute_result"
    }
   ],
   "source": [
    "res=[None]*14\n",
    "A=[1,4,5]\n",
    "c(13,A,res)"
   ]
  },
  {
   "cell_type": "code",
   "execution_count": 11,
   "metadata": {},
   "outputs": [
    {
     "data": {
      "text/plain": [
       "[0, 1, 2, 3, 1, 1, 2, 3, 2, 2, 2, 3, 3, 3]"
      ]
     },
     "execution_count": 11,
     "metadata": {},
     "output_type": "execute_result"
    }
   ],
   "source": [
    "res"
   ]
  },
  {
   "cell_type": "code",
   "execution_count": null,
   "metadata": {},
   "outputs": [],
   "source": [
    "def wrapper(n):\n",
    "    lookup=[[-1 for i in range(n+1)] for j in range(n+1)]\n",
    "    A=[(i+1)**3 for in range(10)]\n",
    "    return see(n,n,A,lookup)\n",
    "\n",
    "def see(n,n,A,lookup):\n",
    "    if lookup[i][j]!=-1:\n",
    "        return lookup[i][j]\n",
    "    if i==0 or j==0:\n",
    "        lookup[i][j]=0\n",
    "    for a in A:\n",
    "        if \n",
    "    "
   ]
  },
  {
   "cell_type": "code",
   "execution_count": 1,
   "metadata": {},
   "outputs": [],
   "source": [
    "def wrapper(n):\n",
    "    lookup=[0 for j in range(n+1)]\n",
    "    lookup[0]=1\n",
    "    A=[(i+1)**3 for i in range(10)]\n",
    "    return see(n,A,lookup)\n",
    "\n",
    "def see(n,A,lookup):\n",
    "    if lookup[n]==0:\n",
    "        tmp=0\n",
    "        for a in A:\n",
    "            if n>=a:\n",
    "                tmp+=(see(n-a,A,lookup))\n",
    "        lookup[n]=tmp\n",
    "    return lookup[n]\n",
    "    "
   ]
  },
  {
   "cell_type": "code",
   "execution_count": 2,
   "metadata": {},
   "outputs": [
    {
     "data": {
      "text/plain": [
       "4"
      ]
     },
     "execution_count": 2,
     "metadata": {},
     "output_type": "execute_result"
    }
   ],
   "source": [
    "wrapper(10)"
   ]
  },
  {
   "cell_type": "markdown",
   "metadata": {},
   "source": [
    "This algorithm is similiar to the chocolate one. It goes through list of cubic integers and \n",
    "tries to separate itself into those integers. It then repeats until it ends up with combinations of 1 which then adds those combinations together."
   ]
  },
  {
   "cell_type": "code",
   "execution_count": 85,
   "metadata": {},
   "outputs": [],
   "source": [
    "from math import inf\n",
    "def pun(l,lst):\n",
    "    if len(lst)==0:\n",
    "        return (l**3)\n",
    "    elif len(lst)==1:\n",
    "        return (l-len(lst[0]))**3\n",
    "    \n",
    "    fees=[[0]* len(lst) for i in range(len(lst))]\n",
    "    for i in range(len(lst)):\n",
    "        len_word=len(lst[i])\n",
    "        print(lst[i])\n",
    "        fees[i][i]=(l-len_word)**3\n",
    "        k=1\n",
    "        fee=l-len_word\n",
    "        for j in range(i+1,len(lst)):\n",
    "            fee-=len(lst[j])+1\n",
    "            print(lst[j])\n",
    "            k+=1\n",
    "            fees[i][j]=(fee/k)**3\n",
    "            if fees[i][j]<0:\n",
    "                fees[i][j]=inf\n",
    "    print(fees)\n",
    "    \n",
    "    best_cost=[inf for i in range(len(lst))]\n",
    "    best_prev=[0 for i in range(len(lst))]\n",
    "    for i in range(len(lst)):\n",
    "        for j in range(i+1):\n",
    "            if fees[j][i]!=inf:\n",
    "                if j-1<0:\n",
    "                    if best_cost[i]>0+fees[j][i]:\n",
    "                        best_cost[i]=fees[j][i]\n",
    "                        best_prev[i]=j\n",
    "                elif best_cost[i] > best_cost[j - 1] + fees[j][i]:\n",
    "                    best_cost[i] = best_cost[j - 1] + fees[j][i]\n",
    "                    best_prev[i] = j\n",
    "    res=\"\"\n",
    "    i=len(lst)-1\n",
    "    while i>=0:\n",
    "        res=\" \".join(lst[best_prev[i]:(i+1)])+\"\\n\"+res\n",
    "        i = best_prev[i]-1\n",
    "    print(res)\n",
    "    return best_cost"
   ]
  },
  {
   "cell_type": "code",
   "execution_count": 86,
   "metadata": {},
   "outputs": [
    {
     "name": "stdout",
     "output_type": "stream",
     "text": [
      "aaa\n",
      "bb\n",
      "cc\n",
      "ddddd\n",
      "bb\n",
      "cc\n",
      "ddddd\n",
      "cc\n",
      "ddddd\n",
      "ddddd\n",
      "[[27, 0.0, inf, inf], [0, 64, 0.125, inf], [0, 0, 64, inf], [0, 0, 0, 1]]\n",
      "aaa\n",
      "bb cc\n",
      "ddddd\n",
      "\n",
      "[27, 0.0, 27.125, 28.125]\n"
     ]
    }
   ],
   "source": [
    "print(pun(6, \"it is my word\".split()))"
   ]
  },
  {
   "cell_type": "markdown",
   "metadata": {},
   "source": [
    "it calculates the cost for adding each word to line number i if possible. If it exceeds the line width, it is turned to infinity to ignore it. It then compares the cost of adding words at each line and find the minimum penalty for adding words. It then adds to the previous sum and sets to list min_fees. It returns maximum of min_fees which is the total sum of penalty"
   ]
  },
  {
   "cell_type": "code",
   "execution_count": 55,
   "metadata": {},
   "outputs": [
    {
     "name": "stdout",
     "output_type": "stream",
     "text": [
      "[[27, 0.0, -1.0, -11.390625], [0, 64, 0.125, -4.629629629629631], [0, 0, 64, -1.0], [0, 0, 0, 1]]\n",
      "aaa\n",
      "bb cc\n",
      "ddddd\n",
      "\n",
      "[27, 0.0, 27.125, 28.125, 0]\n",
      "[[5832, 421.875, 81.37037037037035, 0.421875, -0.21599999999999997, -1.0, -8.0, -34.328125, -44.949245541838124, -46.656000000000006, -48.08414725770097, -68.08391203703702, -67.76376877560308, -78.71720116618076, -110.59199999999998], [0, 12167, 1157.625, 49.29629629629629, 1.953125, 0.06400000000000002, -1.0, -17.00291545189505, -27.0, -30.112482853223597, -32.76800000000001, -51.78136739293763, -52.734375, -64.0, -95.53352769679299], [0, 0, 13824, 343.0, 18.96296296296296, 1.953125, -0.21599999999999997, -15.625, -27.0, -30.517578125, -33.45541838134431, -54.87199999999999, -55.6634109691961, -68.08391203703702, -103.31406463359127], [0, 0, 0, 4096, 125.0, 12.703703703703706, -0.015625, -17.576, -31.754629629629626, -35.47230320699708, -38.443359375, -64.0, -64.0, -78.0037565740045, -118.85358796296299], [0, 0, 0, 0, 8000, 614.125, 27.0, -0.421875, -5.832000000000001, -10.171296296296294, -14.323615160349851, -34.328125, -37.037037037037045, -50.653000000000006, -88.39143501126969], [0, 0, 0, 0, 0, 12167, 421.875, 1.0, -0.421875, -2.7439999999999993, -6.162037037037036, -23.323615160349856, -27.0, -40.865569272976686, -79.50699999999999], [0, 0, 0, 0, 0, 0, 5832, 27.0, 0.0, -1.0, -4.096000000000001, -22.745370370370374, -27.0, -42.875, -87.79149519890262], [0, 0, 0, 0, 0, 0, 0, 2744, 64.0, 2.37037037037037, 0.0, -5.832000000000001, -10.171296296296294, -23.323615160349856, -64.0], [0, 0, 0, 0, 0, 0, 0, 0, 8000, 512.0, 64.0, 0.421875, -0.008000000000000002, -2.37037037037037, -23.323615160349856], [0, 0, 0, 0, 0, 0, 0, 0, 0, 10648, 729.0, 27.0, 1.953125, -0.06400000000000002, -12.703703703703706], [0, 0, 0, 0, 0, 0, 0, 0, 0, 0, 10648, 274.625, 27.0, 0.125, -8.0], [0, 0, 0, 0, 0, 0, 0, 0, 0, 0, 0, 4913, 274.625, 8.0, -3.375], [0, 0, 0, 0, 0, 0, 0, 0, 0, 0, 0, 0, 10648, 421.875, 1.0], [0, 0, 0, 0, 0, 0, 0, 0, 0, 0, 0, 0, 0, 6859, 42.875], [0, 0, 0, 0, 0, 0, 0, 0, 0, 0, 0, 0, 0, 0, 2744]]\n",
      "Welcome to a wonderful\n",
      "world of dynamic\n",
      "programming where all\n",
      "the problems are\n",
      "solved efficiently\n",
      "\n",
      "[5832, 421.875, 81.37037037037035, 0.421875, 206.37037037037035, 94.07407407407406, 27.421875, 121.07407407407406, 91.421875, 29.79224537037037, 27.421875, 118.421875, 56.79224537037037, 29.91724537037037, 99.66724537037037, 0]\n"
     ]
    }
   ],
   "source": [
    "# should be run with Python >= 3.5\n",
    "from math import inf\n",
    "\n",
    "def word_wrap_dp(line_width, words):\n",
    "  # compute the penalty for a line from the i-th to j-th words\n",
    "  # Note: the naive algorithm would have O(n^3) complexty, but this one has only O(n^2)\n",
    "    fees = [ [0] * len(words) for i in range(len(words))]\n",
    "    for i in range(len(words)):\n",
    "        length = len(words[i])\n",
    "        fees[i][i] = (line_width - length)**3\n",
    "        count=1\n",
    "        for j in range(i + 1, len(words)):\n",
    "            count+=1\n",
    "            length += len(words[j]) + 1\n",
    "            fees[i][j] = ((line_width - length)/count)**3\n",
    "    print(fees)\n",
    "  # dirty hack, do not do this\n",
    "  # this how I achieve that best_cost has an extra entry \"with index -1\" to account for empty line\n",
    "    best_cost = [inf for i in range(len(words) + 1)]\n",
    "    best_cost[-1] = 0\n",
    "    best_prev = [0 for i in range(len(words))]\n",
    "    for i in range(len(words)):\n",
    "        for j in range(i + 1):\n",
    "            if fees[j][i] >= 0:\n",
    "                if best_cost[i] > best_cost[j - 1] + fees[j][i]:\n",
    "                    best_cost[i] = best_cost[j - 1] + fees[j][i]\n",
    "                    best_prev[i] = j\n",
    "\n",
    "    result = \"\"\n",
    "    i = len(words) - 1\n",
    "    while i >= 0 :\n",
    "        result = \" \".join(words[best_prev[i] : (i + 1)]) + \"\\n\" + result\n",
    "        i = best_prev[i] - 1\n",
    "    print(result)\n",
    "    return best_cost\n",
    "\n",
    "print(word_wrap_dp(6, \"aaa bb cc ddddd\".split()))\n",
    "print(word_wrap_dp(25, \"Welcome to a wonderful world of dynamic programming where all the problems are solved efficiently\".split()))"
   ]
  },
  {
   "cell_type": "code",
   "execution_count": null,
   "metadata": {},
   "outputs": [],
   "source": [
    "from math import inf\n",
    "def pun(l,lst):\n",
    "    fees=[[0]* len(lst) for i in range(len(lst))]\n",
    "    for i in range(len(lst)):\n",
    "        length=len(lst[i])\n",
    "        fees[i][i]=(l-length)**3\n",
    "        k=1\n",
    "        fee=l-length\n",
    "        for j in range(i+1,len(lst)):\n",
    "            fee-=len(lst[j])+1\n",
    "            k+=1\n",
    "            fees[i][j]=((fee)/k)**3\n",
    "            if fees[i][j]<0:\n",
    "                fees[i][j]=inf\n",
    "    print(fees)\n",
    "    \n",
    "    min_fees=[inf for i in range(len(lst))]\n",
    "    min_prev=[0 for i in range(len(lst))]\n",
    "    for i in range(len(lst)):\n",
    "        for j in range(i+1):\n",
    "            if fees[j][i]!=inf:\n",
    "                if j-1<0:\n",
    "                    if min_fees[i]>0+fees[j][i]:\n",
    "                        min_fees[i]=fees[j][i]\n",
    "                        min_prev[i]=j\n",
    "                if min_fees[i]>min_fees[j-1]+fees[j][i]:\n",
    "                    min_fees[i]=min_fees[j-1]+fees[j][i]\n",
    "                    min_prev[i]=j\n",
    "    res=\"\"\n",
    "    print(min_prev)\n",
    "    \n",
    "    i=len(lst)-1\n",
    "    while i>=0:\n",
    "        res=\" \".join(lst[min_prev[i]:(i+1)])+\"\\n\"+res\n",
    "        i = min_prev[i]-1\n",
    "    return res"
   ]
  },
  {
   "cell_type": "code",
   "execution_count": 39,
   "metadata": {},
   "outputs": [
    {
     "name": "stdout",
     "output_type": "stream",
     "text": [
      "[[64, 0.125, inf, inf], [0, 64, 0.125, inf], [0, 0, 64, inf], [0, 0, 0, 8]]\n",
      "[64, 0.125, 64.125, 72.125]\n",
      "72.125\n"
     ]
    }
   ],
   "source": [
    "print(pun(6, \"it is my word\".split()))\n"
   ]
  },
  {
   "cell_type": "code",
   "execution_count": 48,
   "metadata": {},
   "outputs": [
    {
     "name": "stdout",
     "output_type": "stream",
     "text": [
      "[64, 0.125, 64.125, 72.125, 0]\n",
      "[0, 0, 1, 3]\n",
      "[['it'], ['is', 'my'], ['word']]\n",
      "[5832, 421.875, 81.37037037037035, 0.421875, 206.37037037037035, 94.07407407407406, 27.421875, 121.07407407407406, 91.421875, 29.79224537037037, 27.421875, 118.421875, 56.79224537037037, 29.91724537037037, 99.66724537037037, 0]\n",
      "[0, 0, 0, 0, 3, 3, 4, 6, 7, 7, 7, 9, 10, 10, 13]\n",
      "[['Welcome', 'to', 'a', 'wonderful'], ['world', 'of', 'dynamic'], ['programming', 'where', 'all'], ['the', 'problems', 'are'], ['solved', 'efficiently']]\n"
     ]
    }
   ],
   "source": [
    "# should be run with Python >= 3.5\n",
    "from math import inf\n",
    "\n",
    "def word_wrap_dp(line_width, words):\n",
    "  # compute the penalty for a line from the i-th to j-th words\n",
    "  # Note: the naive algorithm would have O(n^3) complexty, but this one has only O(n^2)\n",
    "    fees = [ [0] * len(words) for i in range(len(words))]\n",
    "    for i in range(len(words)):\n",
    "        length = len(words[i])\n",
    "        fees[i][i] = (line_width - length)**3\n",
    "        count=1\n",
    "        for j in range(i + 1, len(words)):\n",
    "            length += len(words[j]) + 1\n",
    "            count+=1\n",
    "            fees[i][j] = ((line_width - length)**3\n",
    "\n",
    "  # dirty hack, do not do this\n",
    "  # this how I achieve that best_cost has an extra entry \"with index -1\" to account for empty line\n",
    "    best_cost = [inf for i in range(len(words) + 1)]\n",
    "    best_cost[-1] = 0\n",
    "    best_prev = [0 for i in range(len(words))]\n",
    "    for i in range(len(words)):\n",
    "        for j in range(i + 1):\n",
    "            if fees[j][i] >= 0:\n",
    "                if best_cost[i] > best_cost[j - 1] + fees[j][i]:\n",
    "                    best_cost[i] = best_cost[j - 1] + fees[j][i]\n",
    "                    best_prev[i] = j\n",
    "\n",
    "    results = []\n",
    "    i = len(words) - 1\n",
    "    while i >= 0 :\n",
    "        results.append(words[best_prev[i] : (i + 1)])\n",
    "        i = best_prev[i] - 1\n",
    "    print(best_cost)\n",
    "    print(best_prev)\n",
    "\n",
    "    return results[::-1]\n",
    "\n",
    "print(word_wrap_dp(6, \"it is my word\".split()))\n",
    "print(word_wrap_dp(25, \"Welcome to a wonderful world of dynamic programming where all the problems are solved efficiently\".split()))"
   ]
  },
  {
   "cell_type": "code",
   "execution_count": 18,
   "metadata": {},
   "outputs": [],
   "source": [
    "from math import inf\n",
    "def pun(l,lst):\n",
    "    fees=[[0]* len(lst) for i in range(len(lst))]\n",
    "    for i in range(len(lst)):\n",
    "        length=len(lst[i])\n",
    "        fees[i][i]=(l-length)**3\n",
    "        k=1\n",
    "        fee=l-length\n",
    "        for j in range(i+1,len(lst)):\n",
    "            fee-=len(lst[j])+1\n",
    "            k+=1\n",
    "            fees[i][j]=((fee)/k)**3\n",
    "            if fees[i][j]<0:\n",
    "                fees[i][j]=inf\n",
    "    \n",
    "    min_fees=[inf for i in range(len(lst))]\n",
    "    min_prev=[0 for i in range(len(lst))]\n",
    "    for i in range(len(lst)):\n",
    "        for j in range(i+1):\n",
    "            if fees[j][i]!=inf:\n",
    "                if j-1<0:\n",
    "                    if min_fees[i]>0+fees[j][i]:\n",
    "                        min_fees[i]=fees[j][i]\n",
    "                        min_prev[i]=j\n",
    "                elif min_fees[i]>min_fees[j-1]+fees[j][i]:\n",
    "                    min_fees[i]=min_fees[j-1]+fees[j][i]\n",
    "                    min_prev[i]=j\n",
    "\n",
    "    results = []\n",
    "    i = len(lst) - 1\n",
    "    while i >= 0 :\n",
    "        results.append(lst[min_prev[i] : (i + 1)])\n",
    "        i = min_prev[i] - 1\n",
    "\n",
    "    return results[::-1]"
   ]
  },
  {
   "cell_type": "code",
   "execution_count": 19,
   "metadata": {},
   "outputs": [
    {
     "name": "stdout",
     "output_type": "stream",
     "text": [
      "[['it'], ['is', 'my'], ['word']]\n"
     ]
    }
   ],
   "source": [
    "print(pun(6, \"it is my word\".split()))"
   ]
  },
  {
   "cell_type": "markdown",
   "metadata": {},
   "source": [
    "It uses the min_prev to append from bottom up the list of corresponding words. It then returns the reverse list to be in proper order."
   ]
  }
 ],
 "metadata": {
  "kernelspec": {
   "display_name": "Python 3",
   "language": "python",
   "name": "python3"
  },
  "language_info": {
   "codemirror_mode": {
    "name": "ipython",
    "version": 3
   },
   "file_extension": ".py",
   "mimetype": "text/x-python",
   "name": "python",
   "nbconvert_exporter": "python",
   "pygments_lexer": "ipython3",
   "version": "3.6.5"
  }
 },
 "nbformat": 4,
 "nbformat_minor": 2
}
