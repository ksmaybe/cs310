{
 "cells": [
  {
   "cell_type": "code",
   "execution_count": 3,
   "metadata": {},
   "outputs": [
    {
     "name": "stdout",
     "output_type": "stream",
     "text": [
      "4950\n"
     ]
    }
   ],
   "source": [
    "x=0\n",
    "for i in range(100):\n",
    "    for j in range(i):\n",
    "        x+=1\n",
    "print(x)"
   ]
  },
  {
   "cell_type": "code",
   "execution_count": 34,
   "metadata": {},
   "outputs": [],
   "source": [
    "def bs(x,l,r,A):\n",
    "    if l<=r:\n",
    "        m=(l+r)/2\n",
    "        print(\"m: \",m)\n",
    "        if A[m-1]==x:\n",
    "            return m\n",
    "        if A[m-1]>x:\n",
    "            return bs(x,l,m-1,A)\n",
    "        else:\n",
    "            return bs(x,m+1,r,A)\n",
    "    return -1\n"
   ]
  },
  {
   "cell_type": "code",
   "execution_count": 35,
   "metadata": {},
   "outputs": [
    {
     "name": "stdout",
     "output_type": "stream",
     "text": [
      "('m: ', 6)\n",
      "('m: ', 9)\n",
      "('m: ', 7)\n",
      "('m: ', 8)\n"
     ]
    },
    {
     "data": {
      "text/plain": [
       "8"
      ]
     },
     "execution_count": 35,
     "metadata": {},
     "output_type": "execute_result"
    }
   ],
   "source": [
    "A=[i+1 for i in range(11)]\n",
    "bs(8,1,11,A)"
   ]
  },
  {
   "cell_type": "code",
   "execution_count": 28,
   "metadata": {},
   "outputs": [],
   "source": [
    "def exp(a,n):\n",
    "    if n==0:\n",
    "        return 1\n",
    "    if n%2==0:\n",
    "        print(n/2)\n",
    "        return (exp(a,n/2))**2\n",
    "    else:\n",
    "        print((n-1)/2)\n",
    "        return (exp(a,(n-1)/2))**2"
   ]
  },
  {
   "cell_type": "code",
   "execution_count": 36,
   "metadata": {},
   "outputs": [
    {
     "name": "stdout",
     "output_type": "stream",
     "text": [
      "1023\n",
      "511\n",
      "255\n",
      "127\n",
      "63\n",
      "31\n",
      "15\n",
      "7\n",
      "3\n",
      "1\n",
      "0\n"
     ]
    },
    {
     "data": {
      "text/plain": [
       "1"
      ]
     },
     "execution_count": 36,
     "metadata": {},
     "output_type": "execute_result"
    }
   ],
   "source": [
    "exp(2,2046)"
   ]
  },
  {
   "cell_type": "code",
   "execution_count": 30,
   "metadata": {},
   "outputs": [],
   "source": [
    "def max(A):\n",
    "    r=0\n",
    "    for i in range(A[-1]):\n",
    "        for j in range(i):\n",
    "            r+=1\n",
    "    return r\n"
   ]
  },
  {
   "cell_type": "code",
   "execution_count": 42,
   "metadata": {},
   "outputs": [
    {
     "data": {
      "text/plain": [
       "44850"
      ]
     },
     "execution_count": 42,
     "metadata": {},
     "output_type": "execute_result"
    }
   ],
   "source": [
    "max([i+1 for i in range(300)])\n"
   ]
  },
  {
   "cell_type": "code",
   "execution_count": null,
   "metadata": {},
   "outputs": [],
   "source": []
  }
 ],
 "metadata": {
  "kernelspec": {
   "display_name": "Python 3",
   "language": "python",
   "name": "python3"
  },
  "language_info": {
   "codemirror_mode": {
    "name": "ipython",
    "version": 2
   },
   "file_extension": ".py",
   "mimetype": "text/x-python",
   "name": "python",
   "nbconvert_exporter": "python",
   "pygments_lexer": "ipython2",
   "version": "2.7.15rc1"
  }
 },
 "nbformat": 4,
 "nbformat_minor": 2
}
