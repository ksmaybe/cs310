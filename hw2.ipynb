{
 "cells": [
  {
   "cell_type": "code",
   "execution_count": 3,
   "metadata": {},
   "outputs": [
    {
     "name": "stdout",
     "output_type": "stream",
     "text": [
      "4950\n"
     ]
    }
   ],
   "source": [
    "x=0\n",
    "for i in range(100):\n",
    "    for j in range(i):\n",
    "        x+=1\n",
    "print(x)"
   ]
  },
  {
   "cell_type": "code",
   "execution_count": 34,
   "metadata": {},
   "outputs": [],
   "source": [
    "def bs(x,l,r,A):\n",
    "    if l<=r:\n",
    "        m=(l+r)/2\n",
    "        print(\"m: \",m)\n",
    "        if A[m-1]==x:\n",
    "            return m\n",
    "        if A[m-1]>x:\n",
    "            return bs(x,l,m-1,A)\n",
    "        else:\n",
    "            return bs(x,m+1,r,A)\n",
    "    return -1\n"
   ]
  },
  {
   "cell_type": "code",
   "execution_count": 35,
   "metadata": {},
   "outputs": [
    {
     "name": "stdout",
     "output_type": "stream",
     "text": [
      "('m: ', 6)\n",
      "('m: ', 9)\n",
      "('m: ', 7)\n",
      "('m: ', 8)\n"
     ]
    },
    {
     "data": {
      "text/plain": [
       "8"
      ]
     },
     "execution_count": 35,
     "metadata": {},
     "output_type": "execute_result"
    }
   ],
   "source": [
    "A=[i+1 for i in range(11)]\n",
    "bs(8,1,11,A)"
   ]
  },
  {
   "cell_type": "code",
   "execution_count": 28,
   "metadata": {},
   "outputs": [],
   "source": [
    "def exp(a,n):\n",
    "    if n==0:\n",
    "        return 1\n",
    "    if n%2==0:\n",
    "        print(n/2)\n",
    "        return (exp(a,n/2))**2\n",
    "    else:\n",
    "        print((n-1)/2)\n",
    "        return (exp(a,(n-1)/2))**2"
   ]
  },
  {
   "cell_type": "code",
   "execution_count": 36,
   "metadata": {},
   "outputs": [
    {
     "name": "stdout",
     "output_type": "stream",
     "text": [
      "1023\n",
      "511\n",
      "255\n",
      "127\n",
      "63\n",
      "31\n",
      "15\n",
      "7\n",
      "3\n",
      "1\n",
      "0\n"
     ]
    },
    {
     "data": {
      "text/plain": [
       "1"
      ]
     },
     "execution_count": 36,
     "metadata": {},
     "output_type": "execute_result"
    }
   ],
   "source": [
    "exp(2,2046)"
   ]
  },
  {
   "cell_type": "code",
   "execution_count": 30,
   "metadata": {},
   "outputs": [],
   "source": [
    "def max(A):\n",
    "    r=0\n",
    "    for i in range(A[-1]):\n",
    "        for j in range(i):\n",
    "            r+=1\n",
    "    return r\n"
   ]
  },
  {
   "cell_type": "code",
   "execution_count": 42,
   "metadata": {},
   "outputs": [
    {
     "data": {
      "text/plain": [
       "44850"
      ]
     },
     "execution_count": 42,
     "metadata": {},
     "output_type": "execute_result"
    }
   ],
   "source": [
    "max([i+1 for i in range(300)])\n"
   ]
  },
  {
   "cell_type": "code",
   "execution_count": 51,
   "metadata": {},
   "outputs": [],
   "source": [
    "def Foo(n):\n",
    "    r=0\n",
    "    for i in range(n+1):\n",
    "        for j in range(i):\n",
    "            r+=1\n",
    "    return r"
   ]
  },
  {
   "cell_type": "code",
   "execution_count": 52,
   "metadata": {},
   "outputs": [
    {
     "data": {
      "text/plain": [
       "5050"
      ]
     },
     "execution_count": 52,
     "metadata": {},
     "output_type": "execute_result"
    }
   ],
   "source": [
    "Foo(100)"
   ]
  },
  {
   "cell_type": "code",
   "execution_count": 53,
   "metadata": {},
   "outputs": [],
   "source": [
    "def zz(n):\n",
    "    return (n/2)*(n+1)"
   ]
  },
  {
   "cell_type": "code",
   "execution_count": 54,
   "metadata": {},
   "outputs": [
    {
     "data": {
      "text/plain": [
       "5050"
      ]
     },
     "execution_count": 54,
     "metadata": {},
     "output_type": "execute_result"
    }
   ],
   "source": [
    "zz(100)"
   ]
  },
  {
   "cell_type": "code",
   "execution_count": 76,
   "metadata": {},
   "outputs": [],
   "source": [
    "def f(l,r,A):\n",
    "    if A[0]!=1:    #check first element\n",
    "        return 1 \n",
    "    if len(A)==2:   #2 or less elements\n",
    "        if a[r-1]-a[l-1]>1:\n",
    "            return A[l-1]+1\n",
    "        \n",
    "        elif a[r-1]-a[l-1]==1:\n",
    "            return A[l-1]-1\n",
    "        else:\n",
    "            return A[r-1]+1\n",
    "        \n",
    "    if l<=r:       #3 or more elements\n",
    "        m=(l+r)//2\n",
    "        \n",
    "        if A[m-1]>m:\n",
    "        \n",
    "            return f(l,m-1,A)\n",
    "        elif A[m-1]==m:\n",
    "      \n",
    "            if A[m]!=m+1:\n",
    "               \n",
    "                return m+1\n",
    "            else:\n",
    "                return f(m+1,r,A)"
   ]
  },
  {
   "cell_type": "code",
   "execution_count": 77,
   "metadata": {},
   "outputs": [],
   "source": [
    "A=[1,2,3,4,5,6,90,123,432,42134]\n",
    "x=(f(1,len(A),A))"
   ]
  },
  {
   "cell_type": "code",
   "execution_count": 78,
   "metadata": {},
   "outputs": [
    {
     "name": "stdout",
     "output_type": "stream",
     "text": [
      "7\n"
     ]
    }
   ],
   "source": [
    "print(x)"
   ]
  },
  {
   "cell_type": "code",
   "execution_count": 73,
   "metadata": {},
   "outputs": [],
   "source": [
    "def warm(l,r,A):\n",
    "    if l<=r:\n",
    "        m=(l+r)//2\n",
    "        M=m-1\n",
    "        if A[M]>=A[M+1]:\n",
    "            if A[M]>=A[M-1]:\n",
    "                return m\n",
    "            else:\n",
    "                return warm(l,m-1,A)\n",
    "        else:\n",
    "            return warm(m+1,r,A)\n",
    "            "
   ]
  },
  {
   "cell_type": "code",
   "execution_count": 74,
   "metadata": {},
   "outputs": [],
   "source": [
    "B=[1,2,3,4,5,6,5,4,3,2,1,0,-1,-2,-3,-4]"
   ]
  },
  {
   "cell_type": "code",
   "execution_count": 75,
   "metadata": {},
   "outputs": [
    {
     "name": "stdout",
     "output_type": "stream",
     "text": [
      "(5, 4, 6)\n",
      "(6, 5, 5)\n"
     ]
    },
    {
     "data": {
      "text/plain": [
       "6"
      ]
     },
     "execution_count": 75,
     "metadata": {},
     "output_type": "execute_result"
    }
   ],
   "source": [
    "warm(1,16,B)"
   ]
  },
  {
   "cell_type": "code",
   "execution_count": null,
   "metadata": {},
   "outputs": [],
   "source": []
  }
 ],
 "metadata": {
  "kernelspec": {
   "display_name": "Python 3",
   "language": "python",
   "name": "python3"
  },
  "language_info": {
   "codemirror_mode": {
    "name": "ipython",
    "version": 3
   },
   "file_extension": ".py",
   "mimetype": "text/x-python",
   "name": "python",
   "nbconvert_exporter": "python",
   "pygments_lexer": "ipython3",
   "version": "3.6.7"
  }
 },
 "nbformat": 4,
 "nbformat_minor": 2
}
